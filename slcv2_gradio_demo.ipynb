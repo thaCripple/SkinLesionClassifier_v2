{
  "cells": [
    {
      "cell_type": "markdown",
      "metadata": {
        "id": "view-in-github",
        "colab_type": "text"
      },
      "source": [
        "<a href=\"https://colab.research.google.com/github/mgrzb451/SkinLesionClassifier_v2/blob/main/slcv2_gradio_demo.ipynb\" target=\"_parent\"><img src=\"https://colab.research.google.com/assets/colab-badge.svg\" alt=\"Open In Colab\"/></a>"
      ]
    },
    {
      "cell_type": "markdown",
      "metadata": {
        "id": "bOINkjjjFpEY"
      },
      "source": [
        "# Creating the Gradio Demo"
      ]
    },
    {
      "cell_type": "code",
      "execution_count": 1,
      "metadata": {
        "colab": {
          "base_uri": "https://localhost:8080/"
        },
        "collapsed": true,
        "id": "Vt8_3Okn46Gb",
        "outputId": "e6f0cdc1-190b-47c2-ecd0-1607b6403ea1"
      },
      "outputs": [
        {
          "output_type": "stream",
          "name": "stdout",
          "text": [
            "\u001b[2K   \u001b[90m━━━━━━━━━━━━━━━━━━━━━━━━━━━━━━━━━━━━━━━━\u001b[0m \u001b[32m46.9/46.9 MB\u001b[0m \u001b[31m16.5 MB/s\u001b[0m eta \u001b[36m0:00:00\u001b[0m\n",
            "\u001b[2K   \u001b[90m━━━━━━━━━━━━━━━━━━━━━━━━━━━━━━━━━━━━━━━━\u001b[0m \u001b[32m322.2/322.2 kB\u001b[0m \u001b[31m22.9 MB/s\u001b[0m eta \u001b[36m0:00:00\u001b[0m\n",
            "\u001b[2K   \u001b[90m━━━━━━━━━━━━━━━━━━━━━━━━━━━━━━━━━━━━━━━━\u001b[0m \u001b[32m95.2/95.2 kB\u001b[0m \u001b[31m7.7 MB/s\u001b[0m eta \u001b[36m0:00:00\u001b[0m\n",
            "\u001b[2K   \u001b[90m━━━━━━━━━━━━━━━━━━━━━━━━━━━━━━━━━━━━━━━━\u001b[0m \u001b[32m11.4/11.4 MB\u001b[0m \u001b[31m65.7 MB/s\u001b[0m eta \u001b[36m0:00:00\u001b[0m\n",
            "\u001b[2K   \u001b[90m━━━━━━━━━━━━━━━━━━━━━━━━━━━━━━━━━━━━━━━━\u001b[0m \u001b[32m72.0/72.0 kB\u001b[0m \u001b[31m4.6 MB/s\u001b[0m eta \u001b[36m0:00:00\u001b[0m\n",
            "\u001b[2K   \u001b[90m━━━━━━━━━━━━━━━━━━━━━━━━━━━━━━━━━━━━━━━━\u001b[0m \u001b[32m62.4/62.4 kB\u001b[0m \u001b[31m4.9 MB/s\u001b[0m eta \u001b[36m0:00:00\u001b[0m\n",
            "\u001b[?25h"
          ]
        }
      ],
      "source": [
        "!pip install -q gradio"
      ]
    },
    {
      "cell_type": "code",
      "source": [
        "!unzip -q \"skinsense_dev.zip\" -d \".\""
      ],
      "metadata": {
        "id": "xvaM5aJMjxRp"
      },
      "execution_count": 2,
      "outputs": []
    },
    {
      "cell_type": "markdown",
      "metadata": {
        "id": "vts1z-CvGedG"
      },
      "source": [
        "# backstage.py"
      ]
    },
    {
      "cell_type": "code",
      "execution_count": null,
      "metadata": {
        "id": "0-g6LpM1U1nR"
      },
      "outputs": [],
      "source": [
        "import torch\n",
        "import torchvision\n",
        "\n",
        "# Download model specific transforms from Torchvision\n",
        "transforms = torchvision.models.EfficientNet_B3_Weights.IMAGENET1K_V1.transforms()\n",
        "# Load the classifier\n",
        "classifier = torch.load(f=\"./classifier_model.pth\", map_location=\"cpu\", weights_only=False)\n",
        "\n",
        "LESIONS_DB = {'akiec': {'name': 'Actinic keratoses or Intraepithelial Carcinoma',\n",
        "  'info': '<strong>Actinic keratoses</strong><br>Rough, scaly patches on the skin caused by prolonged sun exposure.<br>Considered precancerous and can sometimes develop into skin cancer if left untreated.<br><strong>Intraepithelial (Intraepidermal) Carcinoma</strong><br>Early-stage cancer where abnormal cells are found within the epidermis without invading deeper layers.<br>Considered non-invasive, but left untreated, it can progress to invasive cancer.'},\n",
        " 'bcc': {'name': 'Basal Cell Carcinoma',\n",
        "  'info': 'The most common type of skin cancer.<br>Typically develops due to prolonged sun exposure and often appears as a pearly bump, a pinkish patch, or a sore that doesn’t heal.<br>It grows slowly and rarely spreads to other parts of the body, but early treatment is important.<br>It is highly treatable when detected early.'},\n",
        " 'bkl': {'name': 'Seborrheic keratosis, Lichen Planus-like Keratosis or Solar Lentigo',\n",
        "  'info': \"Common benign skin lesions. Frequently seen adjacent to each other; they can arise from one another.<br>Typically don't require treatment. Removal is optional and usually done for cosmetic reasons.\"},\n",
        " 'df': {'name': 'Dermatofibroma',\n",
        "  'info': 'Common, benign skin growth that appears as a small, firm bump, often reddish-brown in color.<br>Harmless, rarely cause symptoms, and do not require treatment unless they become bothersome or are cosmetically concerning.<br>They may dimple inward when pressed and are usually stable in size over time.'},\n",
        " 'mel': {'name': 'Melanoma',\n",
        "  'info': 'A serious type of skin cancer that develops from melanocytes, the cells that produce pigment.<br>Risk factors include excessive sun exposure, fair skin, and a history of sunburns.<br>It often appears as a new or changing mole with irregular borders, uneven color, or asymmetry.<br>It can spread quickly to other parts of the body if not detected and treated early.<br>Early diagnosis and treatment are critical for the best outcomes.'},\n",
        " 'nv': {'name': 'Melanocytic Nevus',\n",
        "  'info': 'Commonly called moles; benign growths on the skin formed by clusters of melanocytes (pigment-producing cells).<br>Typically appear as small, round, brown or tan spots with a uniform color and smooth borders.<br>Most moles are harmless and develop during childhood or adolescence, though they can change over time.<br>Monitoring for changes in size, shape, or color is important to detect potential signs of melanoma'},\n",
        " 'vasc': {'name': 'Angioma, Angiokeratoma or Pyogenic Granuloma',\n",
        "  'info': 'Vascular lesions are abnormalities of the blood vessels that appear on the skin or internally.<br>They can present as red, purple, or blue patches, bumps, or discolorations, such as birthmarks, hemangiomas, or spider veins.<br>These lesions are often benign but can sometimes cause discomfort or cosmetic concerns.<br>Some vascular lesions may be associated with underlying medical conditions.'}}\n",
        "\n",
        "LESION_LABELS = ['akiec', 'bcc', 'bkl', 'df', 'mel', 'nv', 'vasc']\n",
        "\n",
        "\n",
        "def preprocess_img(img)->torch.Tensor:\n",
        "  \"\"\"\n",
        "  Applies default transforms from Torchvision required by the model and adds a fake batch dimension.\n",
        "\n",
        "  # Parameters:\n",
        "  img - a PIL.Image returned by the image input widget\n",
        "\n",
        "  # Returns:\n",
        "  A torch.Tensor with the image uploaded by the user, preprocessed to work with the classifier\n",
        "\n",
        "  \"\"\"\n",
        "\n",
        "  # Apply model specific transforms and add a fake batch dimension\n",
        "  return torch.unsqueeze(input=transforms(img), dim=0)\n",
        "\n",
        "\n",
        "def classify_img(img_tensor:torch.Tensor)->dict:\n",
        "  \"\"\"\n",
        "  Passes an image tensor to the model to calculate classification probabilities.\n",
        "\n",
        "  # Parameters:\n",
        "  img_tensor:torch.Tensor - preprocessed image to pass to the classifier\n",
        "\n",
        "  # Returns:\n",
        "  A dictionary with 4 elements corresponding to the label and classification confidence value\n",
        "  for the top 2 predictions\n",
        "\n",
        "  \"\"\"\n",
        "\n",
        "  classifier.eval()\n",
        "  with torch.inference_mode():\n",
        "    # Get classification probabilities\n",
        "    probabilites = torch.nn.functional.softmax(input=classifier(img_tensor), dim=1)\n",
        "\n",
        "    # Primary classification\n",
        "    first_label = LESION_LABELS[torch.argmax(probabilites)] # Symbolic label eg.: \"bcc\"\n",
        "    first_confidence = round(probabilites.max().item()*100, 1) # Confidence of the 1st classification in %\n",
        "\n",
        "    # Secondary classification\n",
        "    second_classification = torch.sort(probabilites, descending=True)\n",
        "    second_label = LESION_LABELS[second_classification.indices[0,1]]\n",
        "    second_confidence = round(second_classification.values[0,1].item()*100, 1)\n",
        "\n",
        "  return {\"first_label\": first_label,\n",
        "          \"first_confidence\": first_confidence,\n",
        "          \"second_label\": second_label,\n",
        "          \"second_confidence\": second_confidence}"
      ]
    },
    {
      "cell_type": "markdown",
      "metadata": {
        "id": "PjYpxp9o4ksz"
      },
      "source": [
        "# app.py"
      ]
    },
    {
      "cell_type": "code",
      "execution_count": 5,
      "metadata": {
        "colab": {
          "base_uri": "https://localhost:8080/",
          "height": 648
        },
        "id": "ZlRt4z3W439S",
        "outputId": "78b75999-f165-4c54-f835-11eeede744bc"
      },
      "outputs": [
        {
          "output_type": "stream",
          "name": "stdout",
          "text": [
            "Running Gradio in a Colab notebook requires sharing enabled. Automatically setting `share=True` (you can turn this off by setting `share=False` in `launch()` explicitly).\n",
            "\n",
            "Colab notebook detected. To show errors in colab notebook, set debug=True in launch()\n",
            "* Running on public URL: https://ab0bbdb66f96b38d9a.gradio.live\n",
            "\n",
            "This share link expires in 72 hours. For free permanent hosting and GPU upgrades, run `gradio deploy` from the terminal in the working directory to deploy to Hugging Face Spaces (https://huggingface.co/spaces)\n"
          ]
        },
        {
          "output_type": "display_data",
          "data": {
            "text/plain": [
              "<IPython.core.display.HTML object>"
            ],
            "text/html": [
              "<div><iframe src=\"https://ab0bbdb66f96b38d9a.gradio.live\" width=\"100%\" height=\"500\" allow=\"autoplay; camera; microphone; clipboard-read; clipboard-write;\" frameborder=\"0\" allowfullscreen></iframe></div>"
            ]
          },
          "metadata": {}
        },
        {
          "output_type": "execute_result",
          "data": {
            "text/plain": []
          },
          "metadata": {},
          "execution_count": 5
        }
      ],
      "source": [
        "import gradio as gr\n",
        "from backstage import preprocess_img, classify_img, LESIONS_DB, LESION_LABELS\n",
        "\n",
        "def run_app(user_image)->tuple[str, str]:\n",
        "  \"\"\"\n",
        "  A wrapper function that executes the classification pipeline.\n",
        "\n",
        "  # Parameters:\n",
        "  user_image - a PIL.Image returned by the image input widget\n",
        "\n",
        "  # Returns:\n",
        "  A 2 element tuple of strings with HTML to be displayed in the classification output\n",
        "\n",
        "  \"\"\"\n",
        "\n",
        "  # Nested function call to try to take advantage of operator fusion\n",
        "  return _format_classification(classify_img(img_tensor=preprocess_img(img=user_image)))\n",
        "\n",
        "\n",
        "def _format_classification(classifications:dict)->tuple[str, str]:\n",
        "  \"\"\"\n",
        "  Takes a dictionary with the top 2 predictions and their associated certainty values and prepares HTML to be displayed\n",
        "  to the user.\n",
        "\n",
        "  # Parameters:\n",
        "  classifications - a dictionary with 4 elements corresponding to the label and classification confidence value\n",
        "\n",
        "  # Returns:\n",
        "  A 2 element tuple of strings with HTML to be displayed in the classification output\n",
        "  \"\"\"\n",
        "\n",
        "  first_classification = f\"\"\"<h4>The model is <span style=\"font-size:1.3em\">{classifications[\"first_confidence\"]}%</span> certain that it's:</h4>\n",
        "<h2>{LESIONS_DB[classifications[\"first_label\"]][\"name\"]}</h2>\n",
        "<p><span style=\"font-size:1.1em\">{LESIONS_DB[classifications[\"first_label\"]][\"info\"]}<span style=\"font-size:.9em\"></p>\"\"\"\n",
        "\n",
        "  second_classification = f\"\"\"<h5>The second highest prediction with <span style=\"font-size:1.1em\">{classifications[\"second_confidence\"]}%</span> certainty is:</h5>\n",
        "<h3>{LESIONS_DB[classifications[\"second_label\"]][\"name\"]}</h3>\n",
        "<p>{LESIONS_DB[classifications[\"second_label\"]][\"info\"]}</p>\"\"\"\n",
        "\n",
        "  return first_classification, second_classification\n",
        "\n",
        "\n",
        "example_images = [[\"./examples/example1.jpg\"],\n",
        "                  [\"./examples/example2.jpg\"],\n",
        "                  [\"./examples/example3.jpg\"]]\n",
        "\n",
        "# The UI\n",
        "with gr.Blocks(theme='CultriX/gradio-theme') as demo:\n",
        "\n",
        "  # Title Logo\n",
        "  with gr.Row(max_height=200):\n",
        "    gr.Image(value=\"./assets/logo.png\", show_label=False, show_download_button=False, container=False, interactive=False, show_fullscreen_button=False)\n",
        "\n",
        "  # Title Text\n",
        "  with gr.Row(max_height=100):\n",
        "    gr.HTML(\"\"\"\n",
        "    <div style=\"text-align:center; margin:0 auto;\">\n",
        "      <h1>\n",
        "        <span style=\"font-size:1.8em;\">\n",
        "          <span style=\"font-weight:bolder;\">Skin</span>\n",
        "          <span style=\"font-weight:lighter;\">Sense</span>\n",
        "        </span>\n",
        "      </h1>\n",
        "    </div>\"\"\")\n",
        "\n",
        "  with gr.Row():\n",
        "    # Instructions\n",
        "    gr.HTML(\"\"\"\n",
        "        <h3>Tips on taking the photo</h3>\n",
        "        <p>For the best results use your camera's macro mode. Make sure the area is well-lit, preferably with soft, natural light; try not to cast a shadow on the mark with the phone.</p>\n",
        "        <p>Stabilize your phone to avoid blurring. I found resting the arm holding the camera near the lesion to help a lot. Some phones take better photos if you tap to manually select the focus point.</p>\n",
        "        <p>Avoid digital zoom - it degrades the quality; crop the image around the spot afterward instead.</p>\"\"\")\n",
        "\n",
        "  with gr.Row():\n",
        "    # Input Column\n",
        "    with gr.Column(scale=1):\n",
        "      # Image upload widget\n",
        "      img_input = gr.Image(label=\"Your Image\", sources=[\"upload\", \"clipboard\"], type=\"pil\", show_fullscreen_button=False)\n",
        "      # Classify button\n",
        "      classify_button = gr.Button(\"Classify Image\")\n",
        "\n",
        "      # Example images from https://dermnetnz.org\n",
        "      gr.Examples(examples=example_images, inputs=img_input)\n",
        "\n",
        "    # Classification Output\n",
        "    with gr.Column(scale=1, variant=\"panel\"):\n",
        "      first_classification_output = gr.HTML(f\"\"\"<h2>Upload a photo and click the button below the image</h2>\"\"\")\n",
        "      second_classification_output = gr.HTML(f\"\"\"<h2>The classification information will appear here</h2>\"\"\")\n",
        "\n",
        "      # Button action\n",
        "      classify_button.click(fn=run_app, inputs=[img_input], outputs=[first_classification_output, second_classification_output])\n",
        "\n",
        "  # Disclaimer and info\n",
        "  gr.HTML(\"\"\"\n",
        "      <h2>Disclaimer</h2>\n",
        "      <p>This application is not intended to be a medical diagnostic tool. The classifications are for informational purposes only and should never replace professional medical evaluation. If you have any health concerns, regarding your skin or otherwise, please seek professional medical advice.</p>\n",
        "\n",
        "\n",
        "      <h2>About the Project</h2>\n",
        "      <h3>Overview and Motivations</h3>\n",
        "      <p>The app classifies smartphone-captured images of pigmented skin lesions into one of seven categories:</p>\n",
        "      <div style=\"display:flex; gap:1rem;\">\n",
        "          <ul>\n",
        "              <li>Actinic keratoses or Intraepithelial Carcinoma</li>\n",
        "              <li>Angioma, Angiokeratoma or Pyogenic Granuloma</li>\n",
        "              <li>Seborrheic keratosis, Solar Lentigo or<br>Lichen Planus-like Keratosis</li>\n",
        "          </ul>\n",
        "          <ul>\n",
        "              <li>Melanoma</li>\n",
        "              <li>Melanocytic Nevus</li>\n",
        "              <li>Basal Cell Carcinoma</li>\n",
        "              <li>Dermatofibroma</li>\n",
        "          </ul>\n",
        "      </div>\n",
        "      <p>I wanted to leverage the amazing capabilites of AI and create an accesible and practical tool that works within real-world conditions of casual smartphone photography: uneven lighting, blurring, imperfect angles.</p>\n",
        "\n",
        "      <h3>Technical Details</h3>\n",
        "      <p>The app is built upon an <a href=\"https://pytorch.org/vision/main/models/generated/torchvision.models.efficientnet_b3.html\" target=\"_blank\">EfficientNet_B3</a> architecture implemented by the Pytorch team. The model was fine-tuned on the <a href=\"https://dataverse.harvard.edu/dataset.xhtml?persistentId=doi:10.7910/DVN/DBW86T\" target=\"_blank\">HAM10000 dataset.</a></p>\n",
        "      <p>To address the class imbalances in the dataset the minority classes were oversampled by applying augmentations that I thought would reflect the nature of real-world photos taken with a smartphone: random rotations, horizontal/vertical flips, brightness adjustments, random blurring.</p>\n",
        "      <p>The example images in the demo come from <a href=\"https://dermnetnz.org\" target=\"_blank\">https://dermnetnz.org</a></p>\n",
        "      <p>If you want to take a look at the steps I took in developing the app check-out this <a href=\"https://github.com/mgrzb451/SkinLesionClassifier_v2\" target=\"_blank\">repository.</a> If you have any questions or suggestions create a new post in the <a href=\"link_to_discussions\" target=\"_blank\">Discussions.</a></p>\n",
        "\n",
        "\n",
        "      <h2>About Me</h2>\n",
        "      <p>I am very passionate about the art of coding and have been fascinated by the world of Artificial Intelligence. That said, I am not a programmer, nor do I have any formal education in computer science.</p>\n",
        "      <p>This project marks my first big step in a personal journey to teach myself Python, Machine Learning, and AI from scratch. It has, at times, been really difficult but also incredibly rewarding and I am more excited than ever for future challenges!</p>\n",
        "      <p>While my primary goal in developing this app was to deepen my understanding of programming and AI, I also wanted to create tangible value for others and make it as easily accessible as I could.</p>\n",
        "      <p>I hope you find it useful in some way &#128578;</p>\n",
        "            <h3>Contact info</h3>\n",
        "            <p>I'm not really on social media, but if you want to reach out:</p>\n",
        "            <ul  style=\"list-style: none; padding-left: 0;\">\n",
        "              <li style=\"display: flex; align-items: center; gap: 8px;\"><img src=\"https://cdn4.iconfinder.com/data/icons/black-white-social-media/32/email_mail_envelope_send_message-256.png\" alt=\"Email Icon\" style=\"width:24px;height:24px;\"> marcingrzyb24@o2.pl</li>\n",
        "              <li style=\"display: flex; align-items: center; gap: 8px;\"><img src=\"https://cdn0.iconfinder.com/data/icons/shift-logotypes/32/Github-512.png\" alt=\"Github Logo\" style=\"width:24px;height:24px;\"><a href=\"https://github.com/mgrzb451\" target=\"_blank\"> My burgeoning Github page</a></li>\n",
        "              <li style=\"display: flex; align-items: center; gap: 8px;\"><img src=\"https://upload.wikimedia.org/wikipedia/commons/8/81/LinkedIn_icon.svg\" alt=\"Linkedin Logo\" style=\"width:24px;height:24px;\"><a href=\"https://www.linkedin.com/in/marcin-grzyb-421722209\" target=\"_blank\"> LinkedIn profile</a></li>\n",
        "            </ul>\"\"\")\n",
        "\n",
        "demo.launch()"
      ]
    }
  ],
  "metadata": {
    "colab": {
      "provenance": [],
      "mount_file_id": "10cAMLiJ_lIvtxZNJOrto0ZCeXzN2LiWq",
      "authorship_tag": "ABX9TyMWElWJNxHOaAq3eKCmlB+l",
      "include_colab_link": true
    },
    "kernelspec": {
      "display_name": "Python 3",
      "name": "python3"
    },
    "language_info": {
      "name": "python"
    }
  },
  "nbformat": 4,
  "nbformat_minor": 0
}